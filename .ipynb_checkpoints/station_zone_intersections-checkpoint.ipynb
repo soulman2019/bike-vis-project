{
 "cells": [
  {
   "cell_type": "code",
   "execution_count": 1,
   "metadata": {},
   "outputs": [],
   "source": [
    "import json\n",
    "import pandas as pd\n",
    "from ray_casting import point_intersects_multi_polygon"
   ]
  },
  {
   "cell_type": "markdown",
   "metadata": {},
   "source": [
    "# Load data"
   ]
  },
  {
   "cell_type": "code",
   "execution_count": 2,
   "metadata": {},
   "outputs": [],
   "source": [
    "with open('data/sf_zones.json', 'r') as f:\n",
    "    zones = json.load(f)\n",
    "zones_features = zones['features']"
   ]
  },
  {
   "cell_type": "code",
   "execution_count": 3,
   "metadata": {},
   "outputs": [],
   "source": [
    "stations = pd.read_csv('data/sf_stations.csv')\n",
    "stations['id'] = stations['id'].astype('int')"
   ]
  },
  {
   "cell_type": "markdown",
   "metadata": {},
   "source": [
    "# Map stations and zones"
   ]
  },
  {
   "cell_type": "code",
   "execution_count": 4,
   "metadata": {},
   "outputs": [],
   "source": [
    "class ZoneNotFoundException(Exception):\n",
    "    pass"
   ]
  },
  {
   "cell_type": "code",
   "execution_count": 5,
   "metadata": {},
   "outputs": [],
   "source": [
    "def find_zone(latitude, longitude):\n",
    "    point = (longitude, latitude)\n",
    "    for zone in zones_features:\n",
    "        multi_polygon = zone['geometry']['coordinates']\n",
    "        if point_intersects_multi_polygon(point, multi_polygon):\n",
    "            return zone['properties']['id']\n",
    "    raise ZoneNotFoundException"
   ]
  },
  {
   "cell_type": "code",
   "execution_count": 6,
   "metadata": {},
   "outputs": [],
   "source": [
    "station2zone = {}\n",
    "station_ids = stations.id\n",
    "for station_id in station_ids:\n",
    "    row = stations[stations.id == station_id].iloc[0]\n",
    "    zone_id = find_zone(row.latitude, row.longitude)\n",
    "    station2zone[station_id] = zone_id"
   ]
  },
  {
   "cell_type": "code",
   "execution_count": 7,
   "metadata": {},
   "outputs": [],
   "source": [
    "def find_stations(zone):\n",
    "    multi_polygon = zone['geometry']['coordinates']\n",
    "    zone_stations = []\n",
    "    for _, station in stations.iterrows():\n",
    "        point = (station.longitude, station.latitude)\n",
    "        if point_intersects_multi_polygon(point, multi_polygon):\n",
    "            zone_stations.append(int(station.id))\n",
    "    return zone_stations"
   ]
  },
  {
   "cell_type": "code",
   "execution_count": 8,
   "metadata": {},
   "outputs": [],
   "source": [
    "zone2stations = {}\n",
    "for zone in zones_features:\n",
    "    zone_id = zone['properties']['id']\n",
    "    zone_stations = find_stations(zone)\n",
    "    zone2stations[zone_id] = zone_stations"
   ]
  },
  {
   "cell_type": "code",
   "execution_count": 9,
   "metadata": {},
   "outputs": [],
   "source": [
    "with open('data/station2zone.json', 'w') as f:\n",
    "    json.dump(station2zone, f)"
   ]
  },
  {
   "cell_type": "code",
   "execution_count": 10,
   "metadata": {},
   "outputs": [],
   "source": [
    "with open('data/zone2stations.json', 'w') as f:\n",
    "    json.dump(zone2stations, f)"
   ]
  },
  {
   "cell_type": "markdown",
   "metadata": {},
   "source": [
    "Station 19 and zone with name \"200 Sutter Street, Financial District, San Francisco\" are supposed to overlap."
   ]
  },
  {
   "cell_type": "code",
   "execution_count": 11,
   "metadata": {},
   "outputs": [],
   "source": [
    "zone_overlap = list(filter(lambda feature: feature['properties']['name'] == '200 Sutter Street, Financial District, San Francisco', zones_features))[0]"
   ]
  },
  {
   "cell_type": "code",
   "execution_count": 12,
   "metadata": {},
   "outputs": [],
   "source": [
    "station_overlap_id = 19\n",
    "zone_overlap_id = zone_overlap['properties']['id']"
   ]
  },
  {
   "cell_type": "code",
   "execution_count": 13,
   "metadata": {},
   "outputs": [
    {
     "name": "stdout",
     "output_type": "stream",
     "text": [
      "1689\n"
     ]
    }
   ],
   "source": [
    "print(zone_overlap_id)"
   ]
  },
  {
   "cell_type": "code",
   "execution_count": 14,
   "metadata": {},
   "outputs": [
    {
     "name": "stdout",
     "output_type": "stream",
     "text": [
      "1689\n"
     ]
    }
   ],
   "source": [
    "station_overlap = stations[stations.id == station_overlap_id].iloc[0]\n",
    "print(find_zone(station_overlap.latitude, station_overlap.longitude))"
   ]
  },
  {
   "cell_type": "code",
   "execution_count": 15,
   "metadata": {},
   "outputs": [
    {
     "data": {
      "text/plain": [
       "[19, 20]"
      ]
     },
     "execution_count": 15,
     "metadata": {},
     "output_type": "execute_result"
    }
   ],
   "source": [
    "zone2stations[zone_overlap_id]"
   ]
  },
  {
   "cell_type": "markdown",
   "metadata": {},
   "source": [
    "Correct!"
   ]
  }
 ],
 "metadata": {
  "kernelspec": {
   "display_name": "Python 3",
   "language": "python",
   "name": "python3"
  },
  "language_info": {
   "codemirror_mode": {
    "name": "ipython",
    "version": 3
   },
   "file_extension": ".py",
   "mimetype": "text/x-python",
   "name": "python",
   "nbconvert_exporter": "python",
   "pygments_lexer": "ipython3",
   "version": "3.6.8"
  }
 },
 "nbformat": 4,
 "nbformat_minor": 2
}
