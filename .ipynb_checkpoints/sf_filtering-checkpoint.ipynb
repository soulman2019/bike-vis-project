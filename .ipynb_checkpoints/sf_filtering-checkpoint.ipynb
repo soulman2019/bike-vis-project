{
 "cells": [
  {
   "cell_type": "markdown",
   "metadata": {},
   "source": [
    "# Load data"
   ]
  },
  {
   "cell_type": "code",
   "execution_count": null,
   "metadata": {},
   "outputs": [],
   "source": [
    "import json\n",
    "import pandas as pd"
   ]
  },
  {
   "cell_type": "code",
   "execution_count": 17,
   "metadata": {},
   "outputs": [],
   "source": [
    "with open('data/unprocessed/sf_censustracts.json', 'r') as f:\n",
    "    zones = json.load(f)"
   ]
  },
  {
   "cell_type": "code",
   "execution_count": 51,
   "metadata": {},
   "outputs": [],
   "source": [
    "bikes = pd.read_csv('data/unprocessed/bikes_2018_q1.csv')"
   ]
  },
  {
   "cell_type": "markdown",
   "metadata": {},
   "source": [
    "Bounding box from data_loader:"
   ]
  },
  {
   "cell_type": "code",
   "execution_count": 53,
   "metadata": {},
   "outputs": [],
   "source": [
    "SF_BBOX = {\n",
    "    'lat_lower': 37.6373674248,\n",
    "    'lon_lower': -122.5859431448,\n",
    "    'lat_upper': 37.8138042743,\n",
    "    'lon_upper': -122.3485049903,\n",
    "}"
   ]
  },
  {
   "cell_type": "markdown",
   "metadata": {},
   "source": [
    "# Make and export filtered zones"
   ]
  },
  {
   "cell_type": "code",
   "execution_count": 67,
   "metadata": {},
   "outputs": [
    {
     "data": {
      "text/plain": [
       "{'MultiPolygon'}"
      ]
     },
     "execution_count": 67,
     "metadata": {},
     "output_type": "execute_result"
    }
   ],
   "source": [
    "set(map(lambda feature: feature['geometry']['type'], zones['features']))"
   ]
  },
  {
   "cell_type": "code",
   "execution_count": 68,
   "metadata": {},
   "outputs": [
    {
     "data": {
      "text/plain": [
       "{1, 2, 3}"
      ]
     },
     "execution_count": 68,
     "metadata": {},
     "output_type": "execute_result"
    }
   ],
   "source": [
    "set(map(lambda feature: len(feature['geometry']['coordinates'][0]), zones['features']))"
   ]
  },
  {
   "cell_type": "markdown",
   "metadata": {},
   "source": [
    "First we filter to only include zones in SF."
   ]
  },
  {
   "cell_type": "code",
   "execution_count": 79,
   "metadata": {},
   "outputs": [],
   "source": [
    "def in_bbox(coordinates):\n",
    "    longtitude, lattitude = coordinates\n",
    "    return (\n",
    "        SF_BBOX['lat_lower'] < lattitude and lattitude < SF_BBOX['lat_upper'] and\n",
    "        SF_BBOX['lon_lower'] < longtitude and longtitude < SF_BBOX['lon_upper']\n",
    "    )"
   ]
  },
  {
   "cell_type": "code",
   "execution_count": 80,
   "metadata": {},
   "outputs": [],
   "source": [
    "def feature_in_bbox(feature):\n",
    "    multi_polygon = feature['geometry']['coordinates']\n",
    "    for polygon in multi_polygon:\n",
    "        exterior_ring = polygon[0]\n",
    "        contained_in_bbox = map(in_bbox, exterior_ring)\n",
    "        if any(contained_in_bbox):\n",
    "            return True\n",
    "    return False"
   ]
  },
  {
   "cell_type": "code",
   "execution_count": 81,
   "metadata": {},
   "outputs": [],
   "source": [
    "features = zones['features']\n",
    "sf_features = list(filter(feature_in_bbox, features))"
   ]
  },
  {
   "cell_type": "code",
   "execution_count": 82,
   "metadata": {},
   "outputs": [
    {
     "data": {
      "text/plain": [
       "2710"
      ]
     },
     "execution_count": 82,
     "metadata": {},
     "output_type": "execute_result"
    }
   ],
   "source": [
    "len(features)"
   ]
  },
  {
   "cell_type": "code",
   "execution_count": 100,
   "metadata": {},
   "outputs": [
    {
     "data": {
      "text/plain": [
       "235"
      ]
     },
     "execution_count": 100,
     "metadata": {},
     "output_type": "execute_result"
    }
   ],
   "source": [
    "len(sf_features)"
   ]
  },
  {
   "cell_type": "markdown",
   "metadata": {},
   "source": [
    "Then we create the nice new geojson zones."
   ]
  },
  {
   "cell_type": "code",
   "execution_count": 88,
   "metadata": {},
   "outputs": [],
   "source": [
    "def parse_feature(feature):\n",
    "    properties = feature['properties']\n",
    "    return {\n",
    "        'geometry': feature['geometry'],\n",
    "        'properties': {\n",
    "            'name': properties['DISPLAY_NAME'],\n",
    "            'id': int(properties['MOVEMENT_ID']),\n",
    "        },\n",
    "        'type': 'Feature',\n",
    "    }"
   ]
  },
  {
   "cell_type": "code",
   "execution_count": 96,
   "metadata": {},
   "outputs": [],
   "source": [
    "sf_zones = {\n",
    "    'type': 'FeatureCollection',\n",
    "    'features': list(map(parse_feature, sf_features)),\n",
    "}"
   ]
  },
  {
   "cell_type": "code",
   "execution_count": 99,
   "metadata": {},
   "outputs": [],
   "source": [
    "with open('data/sf_zones.json', 'w') as f:\n",
    "    json.dump(sf_zones, f)"
   ]
  },
  {
   "cell_type": "markdown",
   "metadata": {},
   "source": [
    "# Make and export station csv"
   ]
  },
  {
   "cell_type": "markdown",
   "metadata": {},
   "source": [
    "Again we start by filtering to the SF bounding box."
   ]
  },
  {
   "cell_type": "code",
   "execution_count": 161,
   "metadata": {},
   "outputs": [
    {
     "data": {
      "text/plain": [
       "312902"
      ]
     },
     "execution_count": 161,
     "metadata": {},
     "output_type": "execute_result"
    }
   ],
   "source": [
    "len(bikes)"
   ]
  },
  {
   "cell_type": "code",
   "execution_count": 157,
   "metadata": {},
   "outputs": [],
   "source": [
    "bikes_in_bbox = bikes.apply(lambda row: in_bbox([row['start_station_longitude'], row['start_station_latitude']]), axis=1)"
   ]
  },
  {
   "cell_type": "code",
   "execution_count": 159,
   "metadata": {},
   "outputs": [],
   "source": [
    "bikes_in_sf = bikes[bikes_in_bbox]"
   ]
  },
  {
   "cell_type": "code",
   "execution_count": 162,
   "metadata": {},
   "outputs": [
    {
     "data": {
      "text/plain": [
       "233027"
      ]
     },
     "execution_count": 162,
     "metadata": {},
     "output_type": "execute_result"
    }
   ],
   "source": [
    "len(bikes_in_sf)"
   ]
  },
  {
   "cell_type": "markdown",
   "metadata": {},
   "source": [
    "Now we can create the station csv."
   ]
  },
  {
   "cell_type": "code",
   "execution_count": 163,
   "metadata": {},
   "outputs": [
    {
     "data": {
      "text/plain": [
       "124"
      ]
     },
     "execution_count": 163,
     "metadata": {},
     "output_type": "execute_result"
    }
   ],
   "source": [
    "bikes_latitudes = bikes_in_sf.groupby('start_station_id').start_station_latitude.unique()\n",
    "len(bikes_latitudes)"
   ]
  },
  {
   "cell_type": "code",
   "execution_count": 164,
   "metadata": {},
   "outputs": [
    {
     "data": {
      "text/plain": [
       "124"
      ]
     },
     "execution_count": 164,
     "metadata": {},
     "output_type": "execute_result"
    }
   ],
   "source": [
    "bikes_longitudes = bikes_in_sf.groupby('start_station_id').start_station_longitude.unique()\n",
    "len(bikes_longitudes)"
   ]
  },
  {
   "cell_type": "code",
   "execution_count": 165,
   "metadata": {},
   "outputs": [],
   "source": [
    "station_ids = bikes_latitudes.index\n",
    "sf_bikes = pd.DataFrame(columns=['id', 'latitude', 'longitude'])\n",
    "for i, station_id in enumerate(station_ids):\n",
    "    station_id = int(station_id)\n",
    "    sf_bikes.loc[i] = [station_id, bikes_latitudes[station_id][0], bikes_longitudes[station_id][0]]\n",
    "sf_bikes['id'] = sf_bikes['id'].astype('int')"
   ]
  },
  {
   "cell_type": "code",
   "execution_count": 166,
   "metadata": {},
   "outputs": [
    {
     "data": {
      "text/plain": [
       "124"
      ]
     },
     "execution_count": 166,
     "metadata": {},
     "output_type": "execute_result"
    }
   ],
   "source": [
    "len(sf_bikes)"
   ]
  },
  {
   "cell_type": "code",
   "execution_count": 168,
   "metadata": {},
   "outputs": [],
   "source": [
    "sf_bikes.to_csv('data/sf_stations.csv', index=None)"
   ]
  }
 ],
 "metadata": {
  "kernelspec": {
   "display_name": "Python 3",
   "language": "python",
   "name": "python3"
  },
  "language_info": {
   "codemirror_mode": {
    "name": "ipython",
    "version": 3
   },
   "file_extension": ".py",
   "mimetype": "text/x-python",
   "name": "python",
   "nbconvert_exporter": "python",
   "pygments_lexer": "ipython3",
   "version": "3.6.8"
  }
 },
 "nbformat": 4,
 "nbformat_minor": 2
}
